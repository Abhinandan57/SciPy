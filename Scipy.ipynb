{
 "cells": [
  {
   "cell_type": "markdown",
   "metadata": {},
   "source": [
    "- __Scientific Python (SciPy) is an extension of NumPy for scientific and advanced mathematical algorithms and functions.__\n",
    "- SciPy builds on NumPy and therefore if you import SciPy, there is no need to import NumPy.\n",
    "- SciPy comes in useful to deal with the task of multiple domains of Scientific Domain such as Statistics, Spatial Data, Image Science, Mathematical Equations, Platform Integration, Signal Processing, Optimization. It's a Python library which has built-in packages such as Mathematics Integration, Linear algebra, Statistics, Language Integration, Multidimensional image processing.\n",
    "- 'Statistics' is a domain which help scientists build a hypothesis and predict the outcome. This is an important analytical process in data science.\n",
    "- In the domain of 'Spatial Data', scientists study spatial data structure. Spatial data consists of spatial objects made up of points, lines, regions, rectangles, surfaces, volumes and even data of higher dimensions which includes time. Examples of spatial data include cities, rivers, roads, states, crop coverage, mountain ranges. Here the major task is to retrieve records based on some spatial properties.\n",
    "- 'Image Science' domain coverages the study of multidimensional images and its processing. The main task here is to understand image properties and extract value from there.\n",
    "- 'Mathematical Equations' domain is used to solve bigger or complex problems such as integration, differentiation functions.\n",
    "- Different platforms that are built on languages such as C++, Matlab and so on need to be integrated. The main task here is to reuse the code written in C or C++. 'Platform Integration' domain deals with these tasks.\n",
    "- 'Signal Processing' is a scientific method for signal processing such as analog or digital.The main task here is to read and understand signals from electronic processors or electromagnetic waves.\n",
    "- 'Optimization' is a scientific process to chose the right values from a given set of values. The major task here is to improve the overall performance of the process or system.\n",
    "### Characteristics of SciPy:  \n",
    "- It has a huge collection of built in mathematical libraries and functions to support complex scientific computations.\n",
    "- High level commands for data manipulation and visualization.\n",
    "- Efficient and fast data processing. Since it is built on top of NumPy, the data processing is extremely fast and efficient.\n",
    "- Integrates well with multiple systems and environments.\n",
    "- Large collection of sub-packages for different scientific domanins.\n",
    "- Its developer friendly libraries and functions, simplifies scientific application development.\n",
    "### Sub-packages of SciPy:  \n",
    "SciPy has multiple sub-packages which covers different scientific computing domains. Most widely used sub-packages are: Integration, IO, Linear Algebra, Optimize, Statistics, Weave Packages.\n",
    "- __cluster__: this package helps handle cluster algorithms (Kmeans) to find the right pattern or target in the data.\n",
    "- __constants__: this package is used to perform mathematical equations such as PI.\n",
    "- __fftpack__: It is used for Fourier transform.\n",
    "- __integrate__: it is mainly used to solve mathematical sequences, series or function approximation.\n",
    "- __spatial__: spatial data structures and algorithms are mostly used in problems related to graphs. Spatial data is used heavily in systems like GPS.\n",
    "- __interpolate__: it is used to create new data points for the given range of values, lower limit and upper limit of functions.\n",
    "- __io__: Reading data from and writing data to different file formats.\n",
    "- __linalg__: This package is used to solve linear algebra problems.\n",
    "- __ndimage__: it conatins different functions for multi-dimensional image processing.\n",
    "- __odr__: Orthogonal distance regression package. This package can handle both explicit & implicit function definition.\n",
    "- __optimize__: this package is used to optimize the process performance by fine tuning the process parameters.\n",
    "- __signal__: signal processing is an enabling technology that encompases the theory and application of processing and transforming information in many different formats probably designated as signals.\n",
    "- __sparse__: it is a two dimensional sparse matrix package for matrix data.\n",
    "- __weave__: this package provides tools for including C/C++ codes within the Python code.\n",
    "- __stats__: this package contains a huge no. of probability distributions and library for statistical functions.\n",
    "- __special__: this package is used to retrieve other special functions in scipy."
   ]
  },
  {
   "cell_type": "markdown",
   "metadata": {},
   "source": [
    "### cluster Sub-package:\n",
    "- Clustering is the task of dividing the population or data points into a number of groups such that data points in the same groups are more similar to other data points in the same group and dissimilar to the data points in other groups. Each group which is formed from clustering is known as a cluster.\n",
    "- There are two types of the cluster, which are: __Central__ and __Hierarchy__\n",
    "- K-means clustering algorithm is one of the popular clustering algorithms. The k-means algorithm adjusts the classification of the observations into clusters and updates the cluster centroids until the position of the centroids is stable over successive iterations.\n",
    "- In the below implementation, we have used NumPy to generate two sets of random points. After joining both these sets, we whiten the data. Whitening normalizes the data and is an essential step before using k-means clustering. Finally, we use the kmeans functions and pass it the data and number of clustered we want."
   ]
  },
  {
   "cell_type": "code",
   "execution_count": 22,
   "metadata": {},
   "outputs": [
    {
     "data": {
      "image/png": "[encoded data removed]",
      "text/plain": [
       "<Figure size 432x288 with 1 Axes>"
      ]
     },
     "metadata": {},
     "output_type": "display_data"
    }
   ],
   "source": [
    "import numpy as np\n",
    "from scipy.cluster.vq import kmeans, whiten\n",
    "import matplotlib.pyplot as plt\n",
    "import seaborn as sns\n",
    "sns.set_style(\"darkgrid\")\n",
    "\n",
    "#create 50 data points in two clusters a and b\n",
    "pts = 100\n",
    "a = np.random.multivariate_normal([0,0],\n",
    "                                 [[4, 1],[1, 4]],\n",
    "                                 size = pts)\n",
    "\n",
    "b = np.random.multivariate_normal([30, 10],\n",
    "                                 [[10, 2],[2, 1]],\n",
    "                                 size = pts)\n",
    "\n",
    "features = np.concatenate((a, b))\n",
    "\n",
    "#Whiten data\n",
    "whitened = whiten(features)\n",
    "#find 2 clusters in the data\n",
    "codebook, distortion = kmeans(whitened, 2)\n",
    "#plot whitened data and cluster centers in red\n",
    "plt.scatter(whitened[:, 0], whitened[:, 1])\n",
    "plt.scatter(codebook[:, 0], codebook[:, 1], c='r')\n",
    "plt.show()"
   ]
  },
  {
   "cell_type": "markdown",
   "metadata": {},
   "source": [
    "### integration Sub-package:\n",
    "- The integrate sub package of the Scipy package contains a lot of functions that allow us to calculate the integral of some complex functions.  \n",
    "__(1) Single Integrals:__\n",
    "- We use the quad function to calculate the single integral of a function. Numerical integrate is sometimes called quadrature and hence the name quad. The function has three parameters: f - Function to be integrated, a-lower limit, b- upper limit\n",
    "- __integrate.quad(f, a, b)__ is used to calculate the definite integral. Integration when performed once can be termed General purpose integration."
   ]
  },
  {
   "cell_type": "code",
   "execution_count": 2,
   "metadata": {},
   "outputs": [
    {
     "data": {
      "text/plain": [
       "(0.5, 5.551115123125783e-15)"
      ]
     },
     "execution_count": 2,
     "metadata": {},
     "output_type": "execute_result"
    }
   ],
   "source": [
    "#performing quad(general) integration on function x from limit 0 to 1\n",
    "\n",
    "#importing quad library from integrate sub-package\n",
    "from scipy.integrate import quad\n",
    "\n",
    "#defining the function which will return the function value\n",
    "def integrateFunction(x):\n",
    "    return x\n",
    "\n",
    "#perform quad integration for function of x for limit 0 to 1\n",
    "quad(integrateFunction, 0, 1)     #passing function & limits to the quad function"
   ]
  },
  {
   "cell_type": "code",
   "execution_count": 3,
   "metadata": {},
   "outputs": [
    {
     "data": {
      "text/plain": [
       "(3.5, 3.885780586188048e-14)"
      ]
     },
     "execution_count": 3,
     "metadata": {},
     "output_type": "execute_result"
    }
   ],
   "source": [
    "#defining a function for ax+b\n",
    "def integrateFn(x, a, b):\n",
    "    return x*a+b\n",
    "\n",
    "#declaring value of a and b\n",
    "a = 3\n",
    "b = 2\n",
    "\n",
    "#performing quad integration\n",
    "quad(integrateFn, 0, 1, args = (a, b))   #passing function, limits and arguments"
   ]
  },
  {
   "cell_type": "code",
   "execution_count": 24,
   "metadata": {},
   "outputs": [
    {
     "name": "stdout",
     "output_type": "stream",
     "text": [
      "(0.7468241328124271, 8.291413475940725e-15)\n"
     ]
    }
   ],
   "source": [
    "#define a function using lambda function\n",
    "from numpy import exp\n",
    "from scipy.integrate import quad\n",
    "import scipy\n",
    "f = lambda x : exp(-x**2)\n",
    "\n",
    "#quad() function expects us to pass a function, thus we used lambda to form a function rather than using an expression\n",
    "i = quad(f, 0, 1)\n",
    "print(i)"
   ]
  },
  {
   "cell_type": "markdown",
   "metadata": {},
   "source": [
    "- The first value in the tuple is the integral value with upper limit one and lower limit zero. Also,the second value is an estimate of the absolute error in the value of an integer."
   ]
  },
  {
   "cell_type": "markdown",
   "metadata": {},
   "source": [
    "__(2) Multiple Integrals:__\n",
    "- There are various functions such as dblquad(), tplquad(), and nquad() that enable us to calculate multiple integrals.the dblquad() function and tplquad() functions calculate the double and triple integrals respectively,whereas nquad performs n-fold multiple integration.\n",
    "- __scipy.integrate.dblquad(func,a,b,gfun,hfun)__ to solve double integrals.\n",
    "- The first argument func is the name of the function to be integrated and a and b are the lower and upper limit of the x variable.  While gfun and hfun are names of the functions that define the lower and upper limit of the y variable."
   ]
  },
  {
   "cell_type": "code",
   "execution_count": 26,
   "metadata": {},
   "outputs": [
    {
     "name": "stdout",
     "output_type": "stream",
     "text": [
      "(0.04166666666666667, 5.491107323698757e-15)\n"
     ]
    }
   ],
   "source": [
    "from scipy.integrate import dblquad\n",
    "from numpy import exp\n",
    "from math import sqrt\n",
    "f = lambda x, y: 2*x*y\n",
    "g = lambda x : 0\n",
    "h = lambda y : 4*y**2\n",
    "i = dblquad(f, 0, 0.5, g, h)\n",
    "print(i)"
   ]
  },
  {
   "cell_type": "code",
   "execution_count": 4,
   "metadata": {},
   "outputs": [
    {
     "data": {
      "text/plain": [
       "(3.0, 4.436070580899685e-14)"
      ]
     },
     "execution_count": 4,
     "metadata": {},
     "output_type": "execute_result"
    }
   ],
   "source": [
    "#performing multiple integration on function x+y from limit 0 to 1\n",
    "\n",
    "#importing integrate sub-package\n",
    "import scipy.integrate as integrate\n",
    "\n",
    "#defining function for x+y\n",
    "def f(x, y):\n",
    "    return x+y\n",
    "\n",
    "#performing double quad integration\n",
    "#passing function, limits and lambda built-in functions to perform multiple integration\n",
    "integrate.dblquad(f, 0, 1, lambda x: 0, lambda x: 2)"
   ]
  },
  {
   "cell_type": "markdown",
   "metadata": {},
   "source": [
    "- __lambda__ built-in function is used to define the range of integration. It evaluates the first condition and then the second condition. Here since the second condition is lambda x: 2 , it will perform the integration on the first integration."
   ]
  },
  {
   "cell_type": "markdown",
   "metadata": {},
   "source": [
    "### optimize Sub-package:\n",
    "- Optimization is the process to improve performance of a system mathematically by fine tuning the process parameters present in the function.\n",
    "- With the help of optimization, you can select values and find the maximum and minimum for a given dataset.\n",
    "- SciPy provides several optimization algorithms such as bfgs, Nelder-Mead simplex, Newton Conjugate gradient, COBYLA or SLSQP.\n",
    "- __optimize.minimize(f, x0, method='bfgs')__ takes the function, lower limit in a given range (x0) and the algorithm 'bfgs' which helps optimize the value 0.\n",
    "- Beside minimizing function, optimize package also provides an API for 'root finding' and 'curve fitting'. To find the root value 'hybr' algorithm is passed in the __root(f, x0, method='hybr')__. In curve fitting, with the means of the curve-fitting algorithm, we specify the upper limit and the lower limit and accordingly fit the curve. In __optimize.curve_fit(f, xdata, ydata)__, xdata is the upper limit and ydata is the lower limit. "
   ]
  },
  {
   "cell_type": "code",
   "execution_count": 5,
   "metadata": {},
   "outputs": [
    {
     "name": "stdout",
     "output_type": "stream",
     "text": [
      "Optimization terminated successfully.\n",
      "         Current function value: -3.246394\n",
      "         Iterations: 5\n",
      "         Function evaluations: 18\n",
      "         Gradient evaluations: 9\n"
     ]
    }
   ],
   "source": [
    "#minimization of the scalar function of one or more variables using bfgs algorithm\n",
    "import numpy as np\n",
    "#importing optimize package\n",
    "from scipy import optimize\n",
    "\n",
    "#defining a function for x^2 + 5sinx\n",
    "def f(x):\n",
    "    return x**2 + 5*np.sin(x)\n",
    "\n",
    "#performing optimize minimize function using bfgs method and options\n",
    "minimaValue = optimize.minimize(f, x0 = 2, method = 'bfgs', options = {'disp':True})\n",
    "#options method set to True display convergence messages such as Current function value, Iterations, Function evaluations etc."
   ]
  },
  {
   "cell_type": "code",
   "execution_count": 8,
   "metadata": {},
   "outputs": [
    {
     "data": {
      "text/plain": [
       "      fun: -3.2463942726915214\n",
       " hess_inv: array([[0.15445818]])\n",
       "      jac: array([-4.76837158e-07])\n",
       "  message: 'Optimization terminated successfully.'\n",
       "     nfev: 18\n",
       "      nit: 5\n",
       "     njev: 9\n",
       "   status: 0\n",
       "  success: True\n",
       "        x: array([-1.11051058])"
      ]
     },
     "execution_count": 8,
     "metadata": {},
     "output_type": "execute_result"
    }
   ],
   "source": [
    "#performing optimize minimize function without passing options as a parameter\n",
    "minimaValueWithoutOpt = optimize.minimize(f, x0 = 2, method = 'bfgs')\n",
    "minimaValueWithoutOpt   #convergence messages will not be displayed.\n",
    "#you will be able to view all the properties and attributes of the minimize operation involved in the optimization process"
   ]
  },
  {
   "cell_type": "code",
   "execution_count": 9,
   "metadata": {},
   "outputs": [
    {
     "data": {
      "text/plain": [
       "    fjac: array([[-1.]])\n",
       "     fun: array([0.])\n",
       " message: 'The solution converged.'\n",
       "    nfev: 14\n",
       "     qtf: array([-8.32889313e-13])\n",
       "       r: array([-4.28198145])\n",
       "  status: 1\n",
       " success: True\n",
       "       x: array([-1.21597614])"
      ]
     },
     "execution_count": 9,
     "metadata": {},
     "output_type": "execute_result"
    }
   ],
   "source": [
    "#optimizing the root of a vector function\n",
    "import numpy as np\n",
    "from scipy.optimize import root\n",
    "\n",
    "#defining a function for x + 3.5cosx\n",
    "def rootfunc(x):\n",
    "    return x + 3.5 * np.cos(x)\n",
    "\n",
    "#root method to find the root\n",
    "rootValue = root(rootfunc, 0.3)   #passing x value in argument for root\n",
    "rootValue"
   ]
  },
  {
   "cell_type": "markdown",
   "metadata": {},
   "source": [
    "### linear algebra Sub-package:\n",
    "- SciPy provides very rapid linear algebra capabilities and contains advanced algebraic functions.  \n",
    "__linalg.inv()__: This function is used to compute the inverse of the given matrix. The matrix which has to be inversed, should be a square matrix i.e 2 by 2 or 3 by 3 matrix etc.\n",
    "- numpy.linalg also provides us with functions that help to solve algebraic equations, so should we use numpy.linalg or scipy.linalg? The scipy.linalg contains all the functions that are in numpy.linalg, in addition it also has some other advanced functions that are not in numpy.linalg. Another advantage of using scipy.linalg over numpy.linalg is that it is always compiled with BLAS/LAPACK support, while for NumPy this is optional, so it’s faster"
   ]
  },
  {
   "cell_type": "code",
   "execution_count": 10,
   "metadata": {},
   "outputs": [
    {
     "data": {
      "text/plain": [
       "array([[10,  6],\n",
       "       [ 2,  7]])"
      ]
     },
     "execution_count": 10,
     "metadata": {},
     "output_type": "execute_result"
    }
   ],
   "source": [
    "import numpy as np\n",
    "from scipy import linalg\n",
    "\n",
    "matrix = np.array([[10,6],[2,7]])\n",
    "matrix"
   ]
  },
  {
   "cell_type": "code",
   "execution_count": 11,
   "metadata": {},
   "outputs": [
    {
     "data": {
      "text/plain": [
       "numpy.ndarray"
      ]
     },
     "execution_count": 11,
     "metadata": {},
     "output_type": "execute_result"
    }
   ],
   "source": [
    "type(matrix)"
   ]
  },
  {
   "cell_type": "code",
   "execution_count": 12,
   "metadata": {},
   "outputs": [
    {
     "data": {
      "text/plain": [
       "array([[ 0.12068966, -0.10344828],\n",
       "       [-0.03448276,  0.17241379]])"
      ]
     },
     "execution_count": 12,
     "metadata": {},
     "output_type": "execute_result"
    }
   ],
   "source": [
    "#using inv() to inverse the matrix\n",
    "linalg.inv(matrix)"
   ]
  },
  {
   "cell_type": "markdown",
   "metadata": {},
   "source": [
    "__linalg.det()__: This function is used to compute the value of the determinant for the given matrix."
   ]
  },
  {
   "cell_type": "code",
   "execution_count": 3,
   "metadata": {},
   "outputs": [
    {
     "data": {
      "text/plain": [
       "array([[4, 9],\n",
       "       [3, 5]])"
      ]
     },
     "execution_count": 3,
     "metadata": {},
     "output_type": "execute_result"
    }
   ],
   "source": [
    "import numpy as np\n",
    "from scipy import linalg\n",
    "\n",
    "matrix = np.array([[4,9],[3,5]])\n",
    "matrix"
   ]
  },
  {
   "cell_type": "code",
   "execution_count": 4,
   "metadata": {},
   "outputs": [
    {
     "data": {
      "text/plain": [
       "-7.000000000000001"
      ]
     },
     "execution_count": 4,
     "metadata": {},
     "output_type": "execute_result"
    }
   ],
   "source": [
    "#using det() to find the determinant of the matrix\n",
    "linalg.det(matrix)"
   ]
  },
  {
   "cell_type": "markdown",
   "metadata": {},
   "source": [
    "__linalg.solve()__: This function is used to find the values of the variables of a linear equation.  \n",
    "Suppose you have 3 linear equations:  \n",
    "2x + 3y + z = 21  \n",
    "-x + 5y + 4z = 9  \n",
    "3x + 2y + 9z = 6  \n",
    "What is the values of x, y & z here?"
   ]
  },
  {
   "cell_type": "code",
   "execution_count": 27,
   "metadata": {},
   "outputs": [
    {
     "data": {
      "text/plain": [
       "array([[ 4.95],\n",
       "       [ 4.35],\n",
       "       [-1.95]])"
      ]
     },
     "execution_count": 27,
     "metadata": {},
     "output_type": "execute_result"
    }
   ],
   "source": [
    "import numpy as np\n",
    "from scipy import linalg\n",
    "\n",
    "#defining 1st numpy array to define the linear equation\n",
    "array1 = np.array([[2, 3, 1],[-1, 5, 4],[3, 2, 9]])\n",
    "\n",
    "#defining 2nd numpy array to define the values of linear equations\n",
    "array2 = np.array([[21], [9], [6]])\n",
    "\n",
    "#values of 3 variables x,y,z\n",
    "linalg.solve(array1, array2)"
   ]
  },
  {
   "cell_type": "markdown",
   "metadata": {},
   "source": [
    "__linalg.svd()__: Every matrix has a __single value decomposition__. This function is used to find the single value decomposition of a matrix. This svd() method is achieved by factorization of a matrix."
   ]
  },
  {
   "cell_type": "code",
   "execution_count": 5,
   "metadata": {},
   "outputs": [
    {
     "data": {
      "text/plain": [
       "(array([[-0.37879831,  0.92547925],\n",
       "        [-0.92547925, -0.37879831]]),\n",
       " array([13.38464336,  3.29413449]),\n",
       " array([[-0.7072066 , -0.4872291 , -0.51231496],\n",
       "        [-0.19208294,  0.82977932, -0.52399467],\n",
       "        [-0.68041382,  0.27216553,  0.68041382]]))"
      ]
     },
     "execution_count": 5,
     "metadata": {},
     "output_type": "execute_result"
    }
   ],
   "source": [
    "import numpy as np\n",
    "from scipy import linalg\n",
    "\n",
    "#defining matrix with 2 rows and 3 columns\n",
    "numSvdArr = np.array([[3, 5, 1],[9, 5, 7]])\n",
    "numSvdArr.shape\n",
    "\n",
    "#using svd() function.\n",
    "#This function will return U(Unitary matrix), Sigma or square root of eigenvalues and VH values as an array of singular values\n",
    "#U is a unitary matrix which is holds values collected by the columns\n",
    "#Sigma is the square root of eigenvalues\n",
    "#VH is values collected into unitary matrix\n",
    "linalg.svd(numSvdArr)"
   ]
  },
  {
   "cell_type": "markdown",
   "metadata": {},
   "source": [
    "- __Calculate Eigenvalues and Eigenvector__\n",
    "- __scipy.linalg.eig__ computes the eigenvalues and the eigenvectors for a particular matrix."
   ]
  },
  {
   "cell_type": "code",
   "execution_count": 6,
   "metadata": {},
   "outputs": [
    {
     "name": "stdout",
     "output_type": "stream",
     "text": [
      "(-0.745966692414834+0j) (14.745966692414834+0j)\n"
     ]
    }
   ],
   "source": [
    "import numpy as np\n",
    "from scipy import linalg\n",
    "\n",
    "#creating a test dataset from a rating system on a scale of one to ten in the form of numpy array\n",
    "test_rating_data = np.array([[5,8],[7,9]])   #eigen values and eigen vectors will be calculated of this square matrix\n",
    "\n",
    "#passing test dataset in the eig()\n",
    "eigenValues, eigenVector = linalg.eig(test_rating_data)\n",
    "\n",
    "#assigning eigen values to first and second eigen values objects\n",
    "first_eigen, second_eigen = eigenValues"
   ]
  },
  {
   "cell_type": "code",
   "execution_count": 12,
   "metadata": {},
   "outputs": [
    {
     "data": {
      "text/plain": [
       "array([-0.74596669+0.j, 14.74596669+0.j])"
      ]
     },
     "execution_count": 12,
     "metadata": {},
     "output_type": "execute_result"
    }
   ],
   "source": [
    "#eigen values\n",
    "eigenValues"
   ]
  },
  {
   "cell_type": "code",
   "execution_count": 13,
   "metadata": {},
   "outputs": [
    {
     "name": "stdout",
     "output_type": "stream",
     "text": [
      "(-0.745966692414834+0j) (14.745966692414834+0j)\n"
     ]
    }
   ],
   "source": [
    "#eigen values (first and second eigen values)\n",
    "print(first_eigen, second_eigen)"
   ]
  },
  {
   "cell_type": "code",
   "execution_count": 8,
   "metadata": {},
   "outputs": [
    {
     "name": "stdout",
     "output_type": "stream",
     "text": [
      "[[-0.81220939 -0.63447346]\n",
      " [ 0.58336601 -0.77294465]]\n"
     ]
    }
   ],
   "source": [
    "#eigen vector\n",
    "print(eigenVector)"
   ]
  },
  {
   "cell_type": "code",
   "execution_count": 9,
   "metadata": {},
   "outputs": [
    {
     "name": "stdout",
     "output_type": "stream",
     "text": [
      "[-0.81220939  0.58336601]\n"
     ]
    }
   ],
   "source": [
    "#first eigen vector\n",
    "print(eigenVector[:,0])"
   ]
  },
  {
   "cell_type": "code",
   "execution_count": 10,
   "metadata": {},
   "outputs": [
    {
     "name": "stdout",
     "output_type": "stream",
     "text": [
      "[-0.63447346 -0.77294465]\n"
     ]
    }
   ],
   "source": [
    "#second eigen vector\n",
    "print(eigenVector[:,1])"
   ]
  },
  {
   "cell_type": "markdown",
   "metadata": {},
   "source": [
    "### statistics Sub-package:  \n",
    "- This package contains many useful distributions for which you need to generate random variables. Random variables are used to specify the finite set of values that build statistical hypothesis, determine probability and predict the outcome.\n",
    "- The statistical package also offers convenience methods that are used widely in the world of statistics.\n",
    "- Statistical functions such as linear regression i.e. __linregress()__ is another function to determine the relationship among variables that are linear in nature. It is used to determine dependency to identify whether a change in one variable impacts the other.\n",
    "- The function normal test i.e. __normaltest()__ is used to validate and test the hypothesis built during data processing.\n",
    "- __CDF (Cumulative Distribution Function)__ provides the cumulative probability associated with a function. The Cumulative Distribution Function provides the cumulative value from negative infinity up to a random variable X and is defined by __F(x) = P(X <= x)__.\n",
    "- __PDF (Probability Density Function)__ of a continuous random variable is the derivative of its CDF. PDF for random distribution helps describe the probability that for any given continuous random variable, its value lies within the same interval.f(x) is the CDF for a continuous random variable x. The PDF for x is given by: __f(x) = dF(x)/dx__\n",
    "- dF(x)/dx is the derivative of CDF.\n",
    "- Both PDF & CDF accept __loc__ and __scale__ as arguments to adjust the location and scale of the data distribution. For example, standard normal distribution location is the mean and scale is the standard deviation.\n",
    "- Normal distribution is a statistical way to find the real values of random variables whose ditributions are unknown."
   ]
  },
  {
   "cell_type": "code",
   "execution_count": 14,
   "metadata": {},
   "outputs": [
    {
     "data": {
      "text/plain": [
       "array([-1.62099006, -0.29761442,  0.13883673, -1.06355286, -0.25441763,\n",
       "        0.83311375,  0.33567608,  1.35403828,  0.39350341, -0.94698446])"
      ]
     },
     "execution_count": 14,
     "metadata": {},
     "output_type": "execute_result"
    }
   ],
   "source": [
    "#importing norm for normal distribution\n",
    "from scipy.stats import norm\n",
    "\n",
    "#rvs() for random variables\n",
    "norm.rvs(loc = 0, scale = 1, size = 10)    #size = 10 means total 10 random variables"
   ]
  },
  {
   "cell_type": "code",
   "execution_count": 15,
   "metadata": {},
   "outputs": [
    {
     "data": {
      "text/plain": [
       "0.9772498680518208"
      ]
     },
     "execution_count": 15,
     "metadata": {},
     "output_type": "execute_result"
    }
   ],
   "source": [
    "#cdf() for cumulative distribution function\n",
    "norm.cdf(5, loc = 1, scale = 2)\n",
    "#this helps describe the probability that for any 10 continuous random variables, the values of the variables are less than or \n",
    "#equal to the argument of the function. Total size chosen for the variables is 5, location is 1 and scale is 2."
   ]
  },
  {
   "cell_type": "code",
   "execution_count": 16,
   "metadata": {},
   "outputs": [
    {
     "data": {
      "text/plain": [
       "1.0279773571668917e-18"
      ]
     },
     "execution_count": 16,
     "metadata": {},
     "output_type": "execute_result"
    }
   ],
   "source": [
    "#pdf() for Probability Density Function for random variables.\n",
    "norm.pdf(9, loc = 0, scale = 1)\n",
    "#here the total size of the variables is 9, location is 0 and scale is 1."
   ]
  },
  {
   "cell_type": "markdown",
   "metadata": {},
   "source": [
    "### weave Sub-package:\n",
    "- The weave package provides tools to include C/C++ code within Python code. This offers an easy way to modify and extend any supported extension libraries such as wxPython.\n",
    "- It has a built-in C/C++ code within Python and results in speeds up to 1.5x to 30x over algorithms written in pure Python.\n",
    "- There are two ways of using the weave package. The __weave.inline()__ function executes C code directly within Python. The __weave.blitz()__ translates Python NumPy expressions to C++ for faster execution."
   ]
  },
  {
   "cell_type": "markdown",
   "metadata": {},
   "source": [
    "### io Sub-package:\n",
    "- The IO package provides a set of functions to deal with several kinds of file formats. It offers a set of functions to deal with file formats that includes: MatLab file, IDL files, Matrix Market files, wav sound files, arff fikes and netcdf files.\n",
    "- Package provides additional files and it's corresponding methods such as: __numpy.loadtxt()__, __numpy.savetxt()__ for text files; __numpy.genfromtxt()__, __numpy.recfromcsv()__ for clever loading of text or csv files; __numpy.save()__, __numpy.load()__ for numpy specific binary format files.\n",
    "- The functions such as __loadmat()__, __savemat()__ and __whosmat()__ can load a MATLAB file, save a MATLAB file and list variables in a MATLAB file respectively."
   ]
  },
  {
   "cell_type": "markdown",
   "metadata": {},
   "source": [
    "### Practice Project 1: Solving Linear Algebra problem using SciPy\n",
    "DESCRIPTION\n",
    "\n",
    "Problem:\n",
    "\n",
    "Use SciPy to solve a linear algebra problem.\n",
    "\n",
    "There is a test with 30 questions worth 150 marks. The test has two types of questions:\n",
    "\n",
    "1. True or false – carries 4 marks each\n",
    "\n",
    "2. Multiple-choice – carries 9 marks each\n",
    "\n",
    "Find the number of true or false and multiple-choice questions."
   ]
  },
  {
   "cell_type": "code",
   "execution_count": 17,
   "metadata": {},
   "outputs": [
    {
     "data": {
      "text/plain": [
       "array([24.,  6.])"
      ]
     },
     "execution_count": 17,
     "metadata": {},
     "output_type": "execute_result"
    }
   ],
   "source": [
    "#importing required libraries\n",
    "import numpy as np\n",
    "from scipy import linalg\n",
    "\n",
    "#Test has 30 questions and worth 150 marks\n",
    "#True and False questions worth 4 marks each\n",
    "#multiple choice quastions worth 9 marks each\n",
    "\n",
    "#Let x is the number of true/false questions\n",
    "#Let y is the number of multiple choice questions\n",
    "#Hence required linear equations: x + y = 30, 4x + 9y = 150\n",
    "array1 = np.array([[1, 1],[4, 9]])\n",
    "array2 = np.array([30, 150])\n",
    "\n",
    "#number of true or false and multiple-choice questions\n",
    "linalg.solve(array1, array2)"
   ]
  },
  {
   "cell_type": "markdown",
   "metadata": {},
   "source": [
    "### Practice Project 2: Perform CDF and PDF using Scipy\n",
    "DESCRIPTION\n",
    "\n",
    "Problem:\n",
    "\n",
    "Use SciPy to declare 20 random values for random values and perform the following:\n",
    "\n",
    "1. CDF – Cumulative Distribution Function for 10 random variables.\n",
    "\n",
    "2. PDF – Probability Density Function for 14 random variables."
   ]
  },
  {
   "cell_type": "code",
   "execution_count": 1,
   "metadata": {},
   "outputs": [
    {
     "data": {
      "text/plain": [
       "array([-0.75614894, -0.34514002, -3.0558049 , -0.09511164, -0.08614126,\n",
       "        0.04819269,  0.2685419 ,  0.97301872,  0.67628166,  0.43381765,\n",
       "       -0.11641704,  0.28583501,  0.70181756, -0.93339073, -1.43516517,\n",
       "        0.45254471,  0.14162546,  1.43727729, -0.66012263, -0.77553557])"
      ]
     },
     "execution_count": 1,
     "metadata": {},
     "output_type": "execute_result"
    }
   ],
   "source": [
    "from scipy.stats import norm\n",
    "\n",
    "#declaring 20 random variables for normal distribution of data\n",
    "norm.rvs(loc = 0, scale = 1, size = 20)"
   ]
  },
  {
   "cell_type": "code",
   "execution_count": 2,
   "metadata": {},
   "outputs": [
    {
     "data": {
      "text/plain": [
       "0.9986501019683699"
      ]
     },
     "execution_count": 2,
     "metadata": {},
     "output_type": "execute_result"
    }
   ],
   "source": [
    "#performing CDF for a random variable 10, loc = 1 and scale = 3\n",
    "norm.cdf(10, loc = 1, scale = 3)"
   ]
  },
  {
   "cell_type": "code",
   "execution_count": 3,
   "metadata": {},
   "outputs": [
    {
     "data": {
      "text/plain": [
       "7.998827757006813e-38"
      ]
     },
     "execution_count": 3,
     "metadata": {},
     "output_type": "execute_result"
    }
   ],
   "source": [
    "#performing PDF for a random variable 14, loc = 1 and scale = 1\n",
    "norm.pdf(14, loc = 1, scale = 1)"
   ]
  }
 ],
 "metadata": {
  "kernelspec": {
   "display_name": "Python 3",
   "language": "python",
   "name": "python3"
  },
  "language_info": {
   "codemirror_mode": {
    "name": "ipython",
    "version": 3
   },
   "file_extension": ".py",
   "mimetype": "text/x-python",
   "name": "python",
   "nbconvert_exporter": "python",
   "pygments_lexer": "ipython3",
   "version": "3.8.5"
  }
 },
 "nbformat": 4,
 "nbformat_minor": 4
}
